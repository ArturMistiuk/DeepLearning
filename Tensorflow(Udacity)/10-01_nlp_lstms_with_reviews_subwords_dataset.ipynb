{
  "cells": [
    {
      "cell_type": "markdown",
      "metadata": {
        "id": "punL79CN7Ox6"
      },
      "source": [
        "##### Copyright 2020 The TensorFlow Authors."
      ]
    },
    {
      "cell_type": "code",
      "execution_count": 1,
      "metadata": {
        "cellView": "form",
        "id": "_ckMIh7O7s6D"
      },
      "outputs": [],
      "source": [
        "#@title Licensed under the Apache License, Version 2.0 (the \"License\");\n",
        "# you may not use this file except in compliance with the License.\n",
        "# You may obtain a copy of the License at\n",
        "#\n",
        "# https://www.apache.org/licenses/LICENSE-2.0\n",
        "#\n",
        "# Unless required by applicable law or agreed to in writing, software\n",
        "# distributed under the License is distributed on an \"AS IS\" BASIS,\n",
        "# WITHOUT WARRANTIES OR CONDITIONS OF ANY KIND, either express or implied.\n",
        "# See the License for the specific language governing permissions and\n",
        "# limitations under the License."
      ]
    },
    {
      "cell_type": "markdown",
      "metadata": {
        "id": "hAclqSm3OOml"
      },
      "source": [
        "# Using LSTMs with the subwords dataset\n"
      ]
    },
    {
      "cell_type": "markdown",
      "metadata": {
        "id": "S5Uhzt6vVIB2"
      },
      "source": [
        "<table class=\"tfo-notebook-buttons\" align=\"left\">\n",
        "  <td>\n",
        "    <a target=\"_blank\" href=\"https://colab.research.google.com/github/tensorflow/examples/blob/master/courses/udacity_intro_to_tensorflow_for_deep_learning/l10c01_nlp_lstms_with_reviews_subwords_dataset.ipynb\"><img src=\"https://www.tensorflow.org/images/colab_logo_32px.png\" />Run in Google Colab</a>\n",
        "  </td>\n",
        "  <td>\n",
        "    <a target=\"_blank\" href=\"https://github.com/tensorflow/examples/blob/master/courses/udacity_intro_to_tensorflow_for_deep_learning/l10c01_nlp_lstms_with_reviews_subwords_dataset.ipynb\"><img src=\"https://www.tensorflow.org/images/GitHub-Mark-32px.png\" />View source on GitHub</a>\n",
        "  </td>\n",
        "</table>"
      ]
    },
    {
      "cell_type": "markdown",
      "metadata": {
        "id": "KTVx8__oGR9J"
      },
      "source": [
        "In this colab, you'll compare the results of using a model with an Embedding layer and then adding bidirectional LSTM layers.\n",
        "\n",
        "You'll work with the dataset of subwords for the combined Yelp and Amazon reviews.\n",
        "\n",
        "You'll use your models to predict the sentiment of new reviews."
      ]
    },
    {
      "cell_type": "code",
      "execution_count": 2,
      "metadata": {
        "id": "L62G7LTwNzoD"
      },
      "outputs": [],
      "source": [
        "import tensorflow as tf\n",
        "\n",
        "from tensorflow.keras.preprocessing.sequence import pad_sequences"
      ]
    },
    {
      "cell_type": "markdown",
      "metadata": {
        "id": "hLcl0QHvDjTV"
      },
      "source": [
        "# Get the dataset\n",
        "\n",
        "Start by getting the dataset containing Amazon and Yelp reviews, with their related sentiment (1 for positive, 0 for negative). This dataset was originally extracted from [here](https://www.kaggle.com/marklvl/sentiment-labelled-sentences-data-set).\n"
      ]
    },
    {
      "cell_type": "code",
      "execution_count": 3,
      "metadata": {
        "id": "nCOtiRJZbxCH",
        "outputId": "760f454f-7e8a-4594-b98f-0d22a5b19eaa",
        "colab": {
          "base_uri": "https://localhost:8080/"
        }
      },
      "outputs": [
        {
          "output_type": "stream",
          "name": "stdout",
          "text": [
            "--2025-05-22 19:34:53--  https://drive.google.com/uc?id=13ySLC_ue6Umt9RJYSeM2t-V0kCv-4C-P\n",
            "Resolving drive.google.com (drive.google.com)... 142.251.2.101, 142.251.2.102, 142.251.2.100, ...\n",
            "Connecting to drive.google.com (drive.google.com)|142.251.2.101|:443... connected.\n",
            "HTTP request sent, awaiting response... 303 See Other\n",
            "Location: https://drive.usercontent.google.com/download?id=13ySLC_ue6Umt9RJYSeM2t-V0kCv-4C-P [following]\n",
            "--2025-05-22 19:34:53--  https://drive.usercontent.google.com/download?id=13ySLC_ue6Umt9RJYSeM2t-V0kCv-4C-P\n",
            "Resolving drive.usercontent.google.com (drive.usercontent.google.com)... 142.251.2.132, 2607:f8b0:4023:c0d::84\n",
            "Connecting to drive.usercontent.google.com (drive.usercontent.google.com)|142.251.2.132|:443... connected.\n",
            "HTTP request sent, awaiting response... 200 OK\n",
            "Length: 127831 (125K) [application/octet-stream]\n",
            "Saving to: ‘/tmp/sentiment.csv’\n",
            "\n",
            "/tmp/sentiment.csv  100%[===================>] 124.83K  --.-KB/s    in 0.04s   \n",
            "\n",
            "2025-05-22 19:34:55 (3.10 MB/s) - ‘/tmp/sentiment.csv’ saved [127831/127831]\n",
            "\n"
          ]
        }
      ],
      "source": [
        "!wget --no-check-certificate \\\n",
        "    https://drive.google.com/uc?id=13ySLC_ue6Umt9RJYSeM2t-V0kCv-4C-P -O /tmp/sentiment.csv"
      ]
    },
    {
      "cell_type": "code",
      "execution_count": 4,
      "metadata": {
        "id": "XuqER_KMD-xS"
      },
      "outputs": [],
      "source": [
        "import pandas as pd\n",
        "\n",
        "dataset = pd.read_csv('/tmp/sentiment.csv')\n",
        "\n",
        "# Extract out sentences and labels\n",
        "sentences = dataset['text'].tolist()\n",
        "labels = dataset['sentiment'].tolist()"
      ]
    },
    {
      "cell_type": "code",
      "execution_count": 5,
      "metadata": {
        "id": "Tbsx1T2CXPNO",
        "outputId": "9d6157cf-0184-4d0c-8d18-67608f9bf24d",
        "colab": {
          "base_uri": "https://localhost:8080/"
        }
      },
      "outputs": [
        {
          "output_type": "stream",
          "name": "stdout",
          "text": [
            "So there is no way for me to plug it in here in the US unless I go by a converter.\n",
            "0\n",
            "\n",
            "\n",
            "Good case Excellent value.\n",
            "1\n",
            "\n",
            "\n"
          ]
        }
      ],
      "source": [
        "# Print some example sentences and labels\n",
        "for x in range(2):\n",
        "  print(sentences[x])\n",
        "  print(labels[x])\n",
        "  print(\"\\n\")"
      ]
    },
    {
      "cell_type": "markdown",
      "metadata": {
        "id": "33AthPiALFZK"
      },
      "source": [
        "#Create a subwords dataset\n",
        "\n",
        "We will use the Amazon and Yelp reviews dataset with tensorflow_datasets's SubwordTextEncoder functionality.\n",
        "\n",
        "SubwordTextEncoder.build_from_corpus() will create a tokenizer for us. You could also use this functionality to get subwords from a much larger corpus of text as well, but we'll just use our existing dataset here.\n",
        "\n",
        "We'll create a subword vocab_size of only the 1,000 most common subwords, as well as cutting off each subword to be at most 5 characters.\n",
        "\n",
        "Check out the related documentation for the the subword text encoder [here](https://www.tensorflow.org/datasets/api_docs/python/tfds/features/text/SubwordTextEncoder#build_from_corpus)."
      ]
    },
    {
      "cell_type": "code",
      "execution_count": 6,
      "metadata": {
        "id": "6NaicNCcLYyf",
        "outputId": "39517af3-2348-4c19-d04a-a56985ceb0e4",
        "colab": {
          "base_uri": "https://localhost:8080/"
        }
      },
      "outputs": [
        {
          "output_type": "stream",
          "name": "stdout",
          "text": [
            "Vocab size is  999\n"
          ]
        }
      ],
      "source": [
        "import tensorflow_datasets as tfds\n",
        "\n",
        "vocab_size = 1000\n",
        "tokenizer = tfds.deprecated.text.SubwordTextEncoder.build_from_corpus(sentences, vocab_size, max_subword_length=5)\n",
        "\n",
        "# How big is the vocab size?\n",
        "print(\"Vocab size is \", tokenizer.vocab_size)"
      ]
    },
    {
      "cell_type": "code",
      "execution_count": 7,
      "metadata": {
        "id": "xvRVoeIVLevh",
        "outputId": "0322547e-153e-4a1c-96b0-8589c44c7507",
        "colab": {
          "base_uri": "https://localhost:8080/"
        }
      },
      "outputs": [
        {
          "output_type": "stream",
          "name": "stdout",
          "text": [
            "I have to jiggle the plug to get it to line up right to get decent volume.\n",
            "[4, 31, 6, 849, 162, 450, 12, 1, 600, 438, 775, 6, 175, 14, 6, 55, 213, 159, 474, 775, 6, 175, 614, 380, 295, 148, 72, 789]\n"
          ]
        }
      ],
      "source": [
        "# Check that the tokenizer works appropriately\n",
        "num = 5\n",
        "print(sentences[num])\n",
        "encoded = tokenizer.encode(sentences[num])\n",
        "print(encoded)"
      ]
    },
    {
      "cell_type": "code",
      "execution_count": 8,
      "metadata": {
        "id": "G_vacTCifklV",
        "outputId": "34b7c452-1f2e-44f8-f05a-1ae004ef450c",
        "colab": {
          "base_uri": "https://localhost:8080/"
        }
      },
      "outputs": [
        {
          "output_type": "stream",
          "name": "stdout",
          "text": [
            "I \n",
            "have \n",
            "to \n",
            "j\n",
            "ig\n",
            "gl\n",
            "e \n",
            "the \n",
            "pl\n",
            "ug\n",
            " \n",
            "to \n",
            "get \n",
            "it \n",
            "to \n",
            "li\n",
            "ne \n",
            "up \n",
            "right\n",
            " \n",
            "to \n",
            "get \n",
            "dec\n",
            "ent \n",
            "vo\n",
            "lu\n",
            "me\n",
            ".\n"
          ]
        }
      ],
      "source": [
        "# Separately print out each subword, decoded\n",
        "for i in encoded:\n",
        "  print(tokenizer.decode([i]))"
      ]
    },
    {
      "cell_type": "markdown",
      "metadata": {
        "id": "cT528cptLupl"
      },
      "source": [
        "## Replace sentence data with encoded subwords\n",
        "\n",
        "Now, we'll create the sequences to be used for training by actually encoding each of the individual sentences. This is equivalent to `text_to_sequences` with the `Tokenizer` we used in earlier exercises."
      ]
    },
    {
      "cell_type": "code",
      "execution_count": 9,
      "metadata": {
        "id": "lkseMhxjL09F"
      },
      "outputs": [],
      "source": [
        "for i, sentence in enumerate(sentences):\n",
        "  sentences[i] = tokenizer.encode(sentence)"
      ]
    },
    {
      "cell_type": "code",
      "execution_count": 10,
      "metadata": {
        "id": "y21yRuzmL43U",
        "outputId": "38d2a79f-6da8-4aaa-914d-0c60ce19c005",
        "colab": {
          "base_uri": "https://localhost:8080/"
        }
      },
      "outputs": [
        {
          "output_type": "stream",
          "name": "stdout",
          "text": [
            "[4, 31, 6, 849, 162, 450, 12, 1, 600, 438, 775, 6, 175, 14, 6, 55, 213, 159, 474, 775, 6, 175, 614, 380, 295, 148, 72, 789]\n"
          ]
        }
      ],
      "source": [
        "# Check the sentences are appropriately replaced\n",
        "print(sentences[5])"
      ]
    },
    {
      "cell_type": "markdown",
      "metadata": {
        "id": "8HrcPHESMBMs"
      },
      "source": [
        "## Final pre-processing\n",
        "\n",
        "Before training, we still need to pad the sequences, as well as split into training and test sets."
      ]
    },
    {
      "cell_type": "code",
      "execution_count": 11,
      "metadata": {
        "id": "50-hTsogLSL-"
      },
      "outputs": [],
      "source": [
        "import numpy as np\n",
        "\n",
        "max_length = 50\n",
        "trunc_type='post'\n",
        "padding_type='post'\n",
        "\n",
        "# Pad all sequences\n",
        "sequences_padded = pad_sequences(sentences, maxlen=max_length,\n",
        "                                 padding=padding_type, truncating=trunc_type)\n",
        "\n",
        "# Separate out the sentences and labels into training and test sets\n",
        "training_size = int(len(sentences) * 0.8)\n",
        "\n",
        "training_sequences = sequences_padded[0:training_size]\n",
        "testing_sequences = sequences_padded[training_size:]\n",
        "training_labels = labels[0:training_size]\n",
        "testing_labels = labels[training_size:]\n",
        "\n",
        "# Make labels into numpy arrays for use with the network later\n",
        "training_labels_final = np.array(training_labels)\n",
        "testing_labels_final = np.array(testing_labels)"
      ]
    },
    {
      "cell_type": "code",
      "source": [
        "type(training_sequences)"
      ],
      "metadata": {
        "id": "EzWms6magVCS",
        "outputId": "11ac815a-b4d3-459e-df2a-10b7e664267d",
        "colab": {
          "base_uri": "https://localhost:8080/"
        }
      },
      "execution_count": 12,
      "outputs": [
        {
          "output_type": "execute_result",
          "data": {
            "text/plain": [
              "numpy.ndarray"
            ]
          },
          "metadata": {},
          "execution_count": 12
        }
      ]
    },
    {
      "cell_type": "markdown",
      "metadata": {
        "id": "PahZm7YEQ8EI"
      },
      "source": [
        "# Create the model using an Embedding"
      ]
    },
    {
      "cell_type": "code",
      "execution_count": 13,
      "metadata": {
        "id": "c_nyQeI0RCCv",
        "outputId": "d52e0e4a-bd7e-4ab9-8497-87efb4172f3f",
        "colab": {
          "base_uri": "https://localhost:8080/",
          "height": 308
        }
      },
      "outputs": [
        {
          "output_type": "stream",
          "name": "stderr",
          "text": [
            "/usr/local/lib/python3.11/dist-packages/keras/src/layers/core/embedding.py:90: UserWarning: Argument `input_length` is deprecated. Just remove it.\n",
            "  warnings.warn(\n"
          ]
        },
        {
          "output_type": "display_data",
          "data": {
            "text/plain": [
              "\u001b[1mModel: \"sequential\"\u001b[0m\n"
            ],
            "text/html": [
              "<pre style=\"white-space:pre;overflow-x:auto;line-height:normal;font-family:Menlo,'DejaVu Sans Mono',consolas,'Courier New',monospace\"><span style=\"font-weight: bold\">Model: \"sequential\"</span>\n",
              "</pre>\n"
            ]
          },
          "metadata": {}
        },
        {
          "output_type": "display_data",
          "data": {
            "text/plain": [
              "┏━━━━━━━━━━━━━━━━━━━━━━━━━━━━━━━━━┳━━━━━━━━━━━━━━━━━━━━━━━━┳━━━━━━━━━━━━━━━┓\n",
              "┃\u001b[1m \u001b[0m\u001b[1mLayer (type)                   \u001b[0m\u001b[1m \u001b[0m┃\u001b[1m \u001b[0m\u001b[1mOutput Shape          \u001b[0m\u001b[1m \u001b[0m┃\u001b[1m \u001b[0m\u001b[1m      Param #\u001b[0m\u001b[1m \u001b[0m┃\n",
              "┡━━━━━━━━━━━━━━━━━━━━━━━━━━━━━━━━━╇━━━━━━━━━━━━━━━━━━━━━━━━╇━━━━━━━━━━━━━━━┩\n",
              "│ embedding (\u001b[38;5;33mEmbedding\u001b[0m)           │ ?                      │   \u001b[38;5;34m0\u001b[0m (unbuilt) │\n",
              "├─────────────────────────────────┼────────────────────────┼───────────────┤\n",
              "│ global_average_pooling1d        │ ?                      │             \u001b[38;5;34m0\u001b[0m │\n",
              "│ (\u001b[38;5;33mGlobalAveragePooling1D\u001b[0m)        │                        │               │\n",
              "├─────────────────────────────────┼────────────────────────┼───────────────┤\n",
              "│ dense (\u001b[38;5;33mDense\u001b[0m)                   │ ?                      │   \u001b[38;5;34m0\u001b[0m (unbuilt) │\n",
              "├─────────────────────────────────┼────────────────────────┼───────────────┤\n",
              "│ dense_1 (\u001b[38;5;33mDense\u001b[0m)                 │ ?                      │   \u001b[38;5;34m0\u001b[0m (unbuilt) │\n",
              "└─────────────────────────────────┴────────────────────────┴───────────────┘\n"
            ],
            "text/html": [
              "<pre style=\"white-space:pre;overflow-x:auto;line-height:normal;font-family:Menlo,'DejaVu Sans Mono',consolas,'Courier New',monospace\">┏━━━━━━━━━━━━━━━━━━━━━━━━━━━━━━━━━┳━━━━━━━━━━━━━━━━━━━━━━━━┳━━━━━━━━━━━━━━━┓\n",
              "┃<span style=\"font-weight: bold\"> Layer (type)                    </span>┃<span style=\"font-weight: bold\"> Output Shape           </span>┃<span style=\"font-weight: bold\">       Param # </span>┃\n",
              "┡━━━━━━━━━━━━━━━━━━━━━━━━━━━━━━━━━╇━━━━━━━━━━━━━━━━━━━━━━━━╇━━━━━━━━━━━━━━━┩\n",
              "│ embedding (<span style=\"color: #0087ff; text-decoration-color: #0087ff\">Embedding</span>)           │ ?                      │   <span style=\"color: #00af00; text-decoration-color: #00af00\">0</span> (unbuilt) │\n",
              "├─────────────────────────────────┼────────────────────────┼───────────────┤\n",
              "│ global_average_pooling1d        │ ?                      │             <span style=\"color: #00af00; text-decoration-color: #00af00\">0</span> │\n",
              "│ (<span style=\"color: #0087ff; text-decoration-color: #0087ff\">GlobalAveragePooling1D</span>)        │                        │               │\n",
              "├─────────────────────────────────┼────────────────────────┼───────────────┤\n",
              "│ dense (<span style=\"color: #0087ff; text-decoration-color: #0087ff\">Dense</span>)                   │ ?                      │   <span style=\"color: #00af00; text-decoration-color: #00af00\">0</span> (unbuilt) │\n",
              "├─────────────────────────────────┼────────────────────────┼───────────────┤\n",
              "│ dense_1 (<span style=\"color: #0087ff; text-decoration-color: #0087ff\">Dense</span>)                 │ ?                      │   <span style=\"color: #00af00; text-decoration-color: #00af00\">0</span> (unbuilt) │\n",
              "└─────────────────────────────────┴────────────────────────┴───────────────┘\n",
              "</pre>\n"
            ]
          },
          "metadata": {}
        },
        {
          "output_type": "display_data",
          "data": {
            "text/plain": [
              "\u001b[1m Total params: \u001b[0m\u001b[38;5;34m0\u001b[0m (0.00 B)\n"
            ],
            "text/html": [
              "<pre style=\"white-space:pre;overflow-x:auto;line-height:normal;font-family:Menlo,'DejaVu Sans Mono',consolas,'Courier New',monospace\"><span style=\"font-weight: bold\"> Total params: </span><span style=\"color: #00af00; text-decoration-color: #00af00\">0</span> (0.00 B)\n",
              "</pre>\n"
            ]
          },
          "metadata": {}
        },
        {
          "output_type": "display_data",
          "data": {
            "text/plain": [
              "\u001b[1m Trainable params: \u001b[0m\u001b[38;5;34m0\u001b[0m (0.00 B)\n"
            ],
            "text/html": [
              "<pre style=\"white-space:pre;overflow-x:auto;line-height:normal;font-family:Menlo,'DejaVu Sans Mono',consolas,'Courier New',monospace\"><span style=\"font-weight: bold\"> Trainable params: </span><span style=\"color: #00af00; text-decoration-color: #00af00\">0</span> (0.00 B)\n",
              "</pre>\n"
            ]
          },
          "metadata": {}
        },
        {
          "output_type": "display_data",
          "data": {
            "text/plain": [
              "\u001b[1m Non-trainable params: \u001b[0m\u001b[38;5;34m0\u001b[0m (0.00 B)\n"
            ],
            "text/html": [
              "<pre style=\"white-space:pre;overflow-x:auto;line-height:normal;font-family:Menlo,'DejaVu Sans Mono',consolas,'Courier New',monospace\"><span style=\"font-weight: bold\"> Non-trainable params: </span><span style=\"color: #00af00; text-decoration-color: #00af00\">0</span> (0.00 B)\n",
              "</pre>\n"
            ]
          },
          "metadata": {}
        }
      ],
      "source": [
        "embedding_dim = 16\n",
        "\n",
        "model = tf.keras.Sequential([\n",
        "    tf.keras.layers.Embedding(vocab_size, embedding_dim, input_length=max_length),\n",
        "    tf.keras.layers.GlobalAveragePooling1D(),\n",
        "    tf.keras.layers.Dense(6, activation='relu'),\n",
        "    tf.keras.layers.Dense(1, activation='sigmoid')\n",
        "])\n",
        "\n",
        "model.summary()"
      ]
    },
    {
      "cell_type": "markdown",
      "metadata": {
        "id": "3WRXrx8BRO2L"
      },
      "source": [
        "# Train the model"
      ]
    },
    {
      "cell_type": "code",
      "execution_count": 14,
      "metadata": {
        "id": "oBKyVYvxRQ_9",
        "outputId": "7f823094-e58e-47e8-ec94-68b225d56460",
        "colab": {
          "base_uri": "https://localhost:8080/"
        }
      },
      "outputs": [
        {
          "output_type": "stream",
          "name": "stdout",
          "text": [
            "Epoch 1/30\n",
            "\u001b[1m50/50\u001b[0m \u001b[32m━━━━━━━━━━━━━━━━━━━━\u001b[0m\u001b[37m\u001b[0m \u001b[1m4s\u001b[0m 30ms/step - accuracy: 0.5139 - loss: 0.6923 - val_accuracy: 0.4185 - val_loss: 0.7023\n",
            "Epoch 2/30\n",
            "\u001b[1m50/50\u001b[0m \u001b[32m━━━━━━━━━━━━━━━━━━━━\u001b[0m\u001b[37m\u001b[0m \u001b[1m2s\u001b[0m 4ms/step - accuracy: 0.5384 - loss: 0.6881 - val_accuracy: 0.4561 - val_loss: 0.6997\n",
            "Epoch 3/30\n",
            "\u001b[1m50/50\u001b[0m \u001b[32m━━━━━━━━━━━━━━━━━━━━\u001b[0m\u001b[37m\u001b[0m \u001b[1m0s\u001b[0m 4ms/step - accuracy: 0.5721 - loss: 0.6814 - val_accuracy: 0.4762 - val_loss: 0.6987\n",
            "Epoch 4/30\n",
            "\u001b[1m50/50\u001b[0m \u001b[32m━━━━━━━━━━━━━━━━━━━━\u001b[0m\u001b[37m\u001b[0m \u001b[1m0s\u001b[0m 4ms/step - accuracy: 0.5925 - loss: 0.6804 - val_accuracy: 0.4962 - val_loss: 0.6911\n",
            "Epoch 5/30\n",
            "\u001b[1m50/50\u001b[0m \u001b[32m━━━━━━━━━━━━━━━━━━━━\u001b[0m\u001b[37m\u001b[0m \u001b[1m0s\u001b[0m 4ms/step - accuracy: 0.6437 - loss: 0.6735 - val_accuracy: 0.5088 - val_loss: 0.6872\n",
            "Epoch 6/30\n",
            "\u001b[1m50/50\u001b[0m \u001b[32m━━━━━━━━━━━━━━━━━━━━\u001b[0m\u001b[37m\u001b[0m \u001b[1m0s\u001b[0m 4ms/step - accuracy: 0.6644 - loss: 0.6589 - val_accuracy: 0.5138 - val_loss: 0.6823\n",
            "Epoch 7/30\n",
            "\u001b[1m50/50\u001b[0m \u001b[32m━━━━━━━━━━━━━━━━━━━━\u001b[0m\u001b[37m\u001b[0m \u001b[1m0s\u001b[0m 4ms/step - accuracy: 0.6625 - loss: 0.6368 - val_accuracy: 0.6692 - val_loss: 0.6494\n",
            "Epoch 8/30\n",
            "\u001b[1m50/50\u001b[0m \u001b[32m━━━━━━━━━━━━━━━━━━━━\u001b[0m\u001b[37m\u001b[0m \u001b[1m0s\u001b[0m 4ms/step - accuracy: 0.7432 - loss: 0.6212 - val_accuracy: 0.6992 - val_loss: 0.6312\n",
            "Epoch 9/30\n",
            "\u001b[1m50/50\u001b[0m \u001b[32m━━━━━━━━━━━━━━━━━━━━\u001b[0m\u001b[37m\u001b[0m \u001b[1m0s\u001b[0m 4ms/step - accuracy: 0.7678 - loss: 0.5906 - val_accuracy: 0.7719 - val_loss: 0.6047\n",
            "Epoch 10/30\n",
            "\u001b[1m50/50\u001b[0m \u001b[32m━━━━━━━━━━━━━━━━━━━━\u001b[0m\u001b[37m\u001b[0m \u001b[1m0s\u001b[0m 4ms/step - accuracy: 0.7837 - loss: 0.5675 - val_accuracy: 0.7168 - val_loss: 0.5947\n",
            "Epoch 11/30\n",
            "\u001b[1m50/50\u001b[0m \u001b[32m━━━━━━━━━━━━━━━━━━━━\u001b[0m\u001b[37m\u001b[0m \u001b[1m0s\u001b[0m 4ms/step - accuracy: 0.7953 - loss: 0.5385 - val_accuracy: 0.6767 - val_loss: 0.5960\n",
            "Epoch 12/30\n",
            "\u001b[1m50/50\u001b[0m \u001b[32m━━━━━━━━━━━━━━━━━━━━\u001b[0m\u001b[37m\u001b[0m \u001b[1m0s\u001b[0m 3ms/step - accuracy: 0.8386 - loss: 0.4924 - val_accuracy: 0.7744 - val_loss: 0.5512\n",
            "Epoch 13/30\n",
            "\u001b[1m50/50\u001b[0m \u001b[32m━━━━━━━━━━━━━━━━━━━━\u001b[0m\u001b[37m\u001b[0m \u001b[1m0s\u001b[0m 4ms/step - accuracy: 0.8393 - loss: 0.4770 - val_accuracy: 0.6817 - val_loss: 0.5747\n",
            "Epoch 14/30\n",
            "\u001b[1m50/50\u001b[0m \u001b[32m━━━━━━━━━━━━━━━━━━━━\u001b[0m\u001b[37m\u001b[0m \u001b[1m0s\u001b[0m 4ms/step - accuracy: 0.8424 - loss: 0.4462 - val_accuracy: 0.7845 - val_loss: 0.5245\n",
            "Epoch 15/30\n",
            "\u001b[1m50/50\u001b[0m \u001b[32m━━━━━━━━━━━━━━━━━━━━\u001b[0m\u001b[37m\u001b[0m \u001b[1m0s\u001b[0m 4ms/step - accuracy: 0.8544 - loss: 0.4185 - val_accuracy: 0.7644 - val_loss: 0.5182\n",
            "Epoch 16/30\n",
            "\u001b[1m50/50\u001b[0m \u001b[32m━━━━━━━━━━━━━━━━━━━━\u001b[0m\u001b[37m\u001b[0m \u001b[1m0s\u001b[0m 3ms/step - accuracy: 0.8485 - loss: 0.4058 - val_accuracy: 0.7043 - val_loss: 0.5420\n",
            "Epoch 17/30\n",
            "\u001b[1m50/50\u001b[0m \u001b[32m━━━━━━━━━━━━━━━━━━━━\u001b[0m\u001b[37m\u001b[0m \u001b[1m0s\u001b[0m 3ms/step - accuracy: 0.8597 - loss: 0.3784 - val_accuracy: 0.7494 - val_loss: 0.5079\n",
            "Epoch 18/30\n",
            "\u001b[1m50/50\u001b[0m \u001b[32m━━━━━━━━━━━━━━━━━━━━\u001b[0m\u001b[37m\u001b[0m \u001b[1m0s\u001b[0m 3ms/step - accuracy: 0.8634 - loss: 0.3643 - val_accuracy: 0.7569 - val_loss: 0.4998\n",
            "Epoch 19/30\n",
            "\u001b[1m50/50\u001b[0m \u001b[32m━━━━━━━━━━━━━━━━━━━━\u001b[0m\u001b[37m\u001b[0m \u001b[1m0s\u001b[0m 4ms/step - accuracy: 0.8833 - loss: 0.3475 - val_accuracy: 0.7218 - val_loss: 0.5308\n",
            "Epoch 20/30\n",
            "\u001b[1m50/50\u001b[0m \u001b[32m━━━━━━━━━━━━━━━━━━━━\u001b[0m\u001b[37m\u001b[0m \u001b[1m0s\u001b[0m 4ms/step - accuracy: 0.8876 - loss: 0.3236 - val_accuracy: 0.7494 - val_loss: 0.5139\n",
            "Epoch 21/30\n",
            "\u001b[1m50/50\u001b[0m \u001b[32m━━━━━━━━━━━━━━━━━━━━\u001b[0m\u001b[37m\u001b[0m \u001b[1m0s\u001b[0m 4ms/step - accuracy: 0.8750 - loss: 0.3200 - val_accuracy: 0.7569 - val_loss: 0.4935\n",
            "Epoch 22/30\n",
            "\u001b[1m50/50\u001b[0m \u001b[32m━━━━━━━━━━━━━━━━━━━━\u001b[0m\u001b[37m\u001b[0m \u001b[1m0s\u001b[0m 4ms/step - accuracy: 0.8938 - loss: 0.2972 - val_accuracy: 0.7544 - val_loss: 0.5061\n",
            "Epoch 23/30\n",
            "\u001b[1m50/50\u001b[0m \u001b[32m━━━━━━━━━━━━━━━━━━━━\u001b[0m\u001b[37m\u001b[0m \u001b[1m0s\u001b[0m 4ms/step - accuracy: 0.8915 - loss: 0.3040 - val_accuracy: 0.7694 - val_loss: 0.4880\n",
            "Epoch 24/30\n",
            "\u001b[1m50/50\u001b[0m \u001b[32m━━━━━━━━━━━━━━━━━━━━\u001b[0m\u001b[37m\u001b[0m \u001b[1m0s\u001b[0m 6ms/step - accuracy: 0.8874 - loss: 0.2933 - val_accuracy: 0.7519 - val_loss: 0.5134\n",
            "Epoch 25/30\n",
            "\u001b[1m50/50\u001b[0m \u001b[32m━━━━━━━━━━━━━━━━━━━━\u001b[0m\u001b[37m\u001b[0m \u001b[1m1s\u001b[0m 5ms/step - accuracy: 0.9136 - loss: 0.2656 - val_accuracy: 0.7569 - val_loss: 0.5128\n",
            "Epoch 26/30\n",
            "\u001b[1m50/50\u001b[0m \u001b[32m━━━━━━━━━━━━━━━━━━━━\u001b[0m\u001b[37m\u001b[0m \u001b[1m0s\u001b[0m 5ms/step - accuracy: 0.9179 - loss: 0.2536 - val_accuracy: 0.7569 - val_loss: 0.5161\n",
            "Epoch 27/30\n",
            "\u001b[1m50/50\u001b[0m \u001b[32m━━━━━━━━━━━━━━━━━━━━\u001b[0m\u001b[37m\u001b[0m \u001b[1m0s\u001b[0m 5ms/step - accuracy: 0.8912 - loss: 0.2614 - val_accuracy: 0.7619 - val_loss: 0.5086\n",
            "Epoch 28/30\n",
            "\u001b[1m50/50\u001b[0m \u001b[32m━━━━━━━━━━━━━━━━━━━━\u001b[0m\u001b[37m\u001b[0m \u001b[1m0s\u001b[0m 6ms/step - accuracy: 0.9117 - loss: 0.2500 - val_accuracy: 0.7494 - val_loss: 0.5369\n",
            "Epoch 29/30\n",
            "\u001b[1m50/50\u001b[0m \u001b[32m━━━━━━━━━━━━━━━━━━━━\u001b[0m\u001b[37m\u001b[0m \u001b[1m0s\u001b[0m 4ms/step - accuracy: 0.9094 - loss: 0.2481 - val_accuracy: 0.7544 - val_loss: 0.5264\n",
            "Epoch 30/30\n",
            "\u001b[1m50/50\u001b[0m \u001b[32m━━━━━━━━━━━━━━━━━━━━\u001b[0m\u001b[37m\u001b[0m \u001b[1m0s\u001b[0m 4ms/step - accuracy: 0.9063 - loss: 0.2316 - val_accuracy: 0.7594 - val_loss: 0.5297\n"
          ]
        }
      ],
      "source": [
        "num_epochs = 30\n",
        "model.compile(loss='binary_crossentropy',optimizer='adam',metrics=['accuracy'])\n",
        "history = model.fit(training_sequences, training_labels_final, epochs=num_epochs, validation_data=(testing_sequences, testing_labels_final))\n"
      ]
    },
    {
      "cell_type": "markdown",
      "metadata": {
        "id": "HhLPbUl2AZ0y"
      },
      "source": [
        "# Plot the accuracy and loss"
      ]
    },
    {
      "cell_type": "code",
      "execution_count": 15,
      "metadata": {
        "id": "jzBM1PpJAYfD",
        "outputId": "d61e2373-3754-44f9-8345-5e8a49454fd1",
        "colab": {
          "base_uri": "https://localhost:8080/",
          "height": 881
        }
      },
      "outputs": [
        {
          "output_type": "display_data",
          "data": {
            "text/plain": [
              "<Figure size 640x480 with 1 Axes>"
            ],
            "image/png": "[encoded data removed]"
          },
          "metadata": {}
        },
        {
          "output_type": "display_data",
          "data": {
            "text/plain": [
              "<Figure size 640x480 with 1 Axes>"
            ],
            "image/png": "[encoded data removed]"
          },
          "metadata": {}
        }
      ],
      "source": [
        "import matplotlib.pyplot as plt\n",
        "\n",
        "\n",
        "def plot_graphs(history, string):\n",
        "  plt.plot(history.history[string])\n",
        "  plt.plot(history.history['val_'+string])\n",
        "  plt.xlabel(\"Epochs\")\n",
        "  plt.ylabel(string)\n",
        "  plt.legend([string, 'val_'+string])\n",
        "  plt.show()\n",
        "\n",
        "plot_graphs(history, \"accuracy\")\n",
        "plot_graphs(history, \"loss\")"
      ]
    },
    {
      "cell_type": "markdown",
      "metadata": {
        "id": "Fwr5inBiWffb"
      },
      "source": [
        "# Define a function to predict the sentiment of reviews\n",
        "\n",
        "We'll be creating models with some differences and will use each model to predict the sentiment of some new reviews.\n",
        "\n",
        "To save time, create a function that will take in a model and some new reviews, and print out the sentiment of each reviews.\n",
        "\n",
        "The higher the sentiment value is to 1, the more positive the review is."
      ]
    },
    {
      "cell_type": "code",
      "execution_count": 16,
      "metadata": {
        "id": "aPNOYiiaha2y"
      },
      "outputs": [],
      "source": [
        "# Define a function to take a series of reviews\n",
        "# and predict whether each one is a positive or negative review\n",
        "\n",
        "# max_length = 100 # previously defined\n",
        "\n",
        "def predict_review(model, new_sentences, maxlen=max_length, show_padded_sequence=True ):\n",
        "  # Keep the original sentences so that we can keep using them later\n",
        "  # Create an array to hold the encoded sequences\n",
        "  new_sequences = []\n",
        "\n",
        "  # Convert the new reviews to sequences\n",
        "  for i, frvw in enumerate(new_sentences):\n",
        "    new_sequences.append(tokenizer.encode(frvw))\n",
        "\n",
        "  trunc_type='post'\n",
        "  padding_type='post'\n",
        "\n",
        "  # Pad all sequences for the new reviews\n",
        "  new_reviews_padded = pad_sequences(new_sequences, maxlen=max_length,\n",
        "                                 padding=padding_type, truncating=trunc_type)\n",
        "\n",
        "  classes = model.predict(new_reviews_padded)\n",
        "\n",
        "  # The closer the class is to 1, the more positive the review is\n",
        "  for x in range(len(new_sentences)):\n",
        "\n",
        "    # We can see the padded sequence if desired\n",
        "    # Print the sequence\n",
        "    if (show_padded_sequence):\n",
        "      print(new_reviews_padded[x])\n",
        "    # Print the review as text\n",
        "    print(new_sentences[x])\n",
        "    # Print its predicted class\n",
        "    print(classes[x])\n",
        "    print(\"\\n\")"
      ]
    },
    {
      "cell_type": "code",
      "execution_count": 17,
      "metadata": {
        "id": "Qg-maex27KPW",
        "outputId": "51363b8f-d238-4d64-8c08-dbe42c532720",
        "colab": {
          "base_uri": "https://localhost:8080/"
        }
      },
      "outputs": [
        {
          "output_type": "stream",
          "name": "stdout",
          "text": [
            "\u001b[1m1/1\u001b[0m \u001b[32m━━━━━━━━━━━━━━━━━━━━\u001b[0m\u001b[37m\u001b[0m \u001b[1m0s\u001b[0m 234ms/step\n",
            "[  4 281  16  25   0   0   0   0   0   0   0   0   0   0   0   0   0   0\n",
            "   0   0   0   0   0   0   0   0   0   0   0   0   0   0   0   0   0   0\n",
            "   0   0   0   0   0   0   0   0   0   0   0   0   0   0]\n",
            "I love this phone\n",
            "[0.8631017]\n",
            "\n",
            "\n",
            "[812 227 864 100 775   9 525 843   0   0   0   0   0   0   0   0   0   0\n",
            "   0   0   0   0   0   0   0   0   0   0   0   0   0   0   0   0   0   0\n",
            "   0   0   0   0   0   0   0   0   0   0   0   0   0   0]\n",
            "Everything was cold\n",
            "[0.23578073]\n",
            "\n",
            "\n",
            "[812 227 864 100 775   9 109   8 333 731  24  61   4 171  59  77   0   0\n",
            "   0   0   0   0   0   0   0   0   0   0   0   0   0   0   0   0   0   0\n",
            "   0   0   0   0   0   0   0   0   0   0   0   0   0   0]\n",
            "Everything was hot exactly as I wanted\n",
            "[0.33363274]\n",
            "\n",
            "\n",
            "[812 227 864 100 775   9 157 359 853   0   0   0   0   0   0   0   0   0\n",
            "   0   0   0   0   0   0   0   0   0   0   0   0   0   0   0   0   0   0\n",
            "   0   0   0   0   0   0   0   0   0   0   0   0   0   0]\n",
            "Everything was green\n",
            "[0.16008349]\n",
            "\n",
            "\n",
            "[  1 109 228 540 237 635 241 423 340  89 298   0   0   0   0   0   0   0\n",
            "   0   0   0   0   0   0   0   0   0   0   0   0   0   0   0   0   0   0\n",
            "   0   0   0   0   0   0   0   0   0   0   0   0   0   0]\n",
            "the host seated us immediately\n",
            "[0.40866804]\n",
            "\n",
            "\n",
            "[154 242  47 635 341  12 569 547 147 319 775 125  85   0   0   0   0   0\n",
            "   0   0   0   0   0   0   0   0   0   0   0   0   0   0   0   0   0   0\n",
            "   0   0   0   0   0   0   0   0   0   0   0   0   0   0]\n",
            "they gave us free chocolate cake\n",
            "[0.7033933]\n",
            "\n",
            "\n",
            "[158 190 853 782   8 607 775 210 232 146 775 470  67 305 101  15   1 328\n",
            " 296  26  19   1 661 641 195   0   0   0   0   0   0   0   0   0   0   0\n",
            "   0   0   0   0   0   0   0   0   0   0   0   0   0   0]\n",
            "we couldn't hear each other talk because of the shouting in the kitchen\n",
            "[0.02778397]\n",
            "\n",
            "\n"
          ]
        }
      ],
      "source": [
        "# Use the model to predict some reviews\n",
        "fake_reviews = [\"I love this phone\",\n",
        "                \"Everything was cold\",\n",
        "                \"Everything was hot exactly as I wanted\",\n",
        "                \"Everything was green\",\n",
        "                \"the host seated us immediately\",\n",
        "                \"they gave us free chocolate cake\",\n",
        "                \"we couldn't hear each other talk because of the shouting in the kitchen\"\n",
        "              ]\n",
        "\n",
        "predict_review(model, fake_reviews)\n"
      ]
    },
    {
      "cell_type": "markdown",
      "metadata": {
        "id": "ycJKbMq3K4iy"
      },
      "source": [
        "# Define a function to train and show the results of models with different layers\n",
        "\n",
        "In the rest of this colab, we will define models, and then see the results.\n",
        "\n",
        "Define a function that will take the model, compile it, train it, graph the accuracy and loss, and then predict some results."
      ]
    },
    {
      "cell_type": "code",
      "execution_count": 18,
      "metadata": {
        "id": "PevUcINXK3gn"
      },
      "outputs": [],
      "source": [
        "def fit_model_now (model, sentences) :\n",
        "  model.compile(loss='binary_crossentropy',optimizer='adam',metrics=['accuracy'])\n",
        "  model.summary()\n",
        "  history = model.fit(training_sequences, training_labels_final, epochs=num_epochs,\n",
        "                      validation_data=(testing_sequences, testing_labels_final))\n",
        "  return history\n",
        "\n",
        "def plot_results (history):\n",
        "  plot_graphs(history, \"accuracy\")\n",
        "  plot_graphs(history, \"loss\")\n",
        "\n",
        "def fit_model_and_show_results (model, sentences):\n",
        "  history = fit_model_now(model, sentences)\n",
        "  plot_results(history)\n",
        "  predict_review(model, sentences)"
      ]
    },
    {
      "cell_type": "markdown",
      "metadata": {
        "id": "U13JBiJUG1oq"
      },
      "source": [
        "# Add a bidirectional LSTM\n",
        "\n",
        "Create a new model that uses a bidirectional LSTM.\n",
        "\n",
        "Then use the function we have already defined to compile the model, train it, graph the accuracy and loss, then predict some results."
      ]
    },
    {
      "cell_type": "code",
      "execution_count": 19,
      "metadata": {
        "id": "scTUsFPAG4zP",
        "outputId": "3e5e2da5-4e34-4360-8324-fccf5b86e5c8",
        "colab": {
          "base_uri": "https://localhost:8080/",
          "height": 1000
        }
      },
      "outputs": [
        {
          "output_type": "display_data",
          "data": {
            "text/plain": [
              "\u001b[1mModel: \"sequential_1\"\u001b[0m\n"
            ],
            "text/html": [
              "<pre style=\"white-space:pre;overflow-x:auto;line-height:normal;font-family:Menlo,'DejaVu Sans Mono',consolas,'Courier New',monospace\"><span style=\"font-weight: bold\">Model: \"sequential_1\"</span>\n",
              "</pre>\n"
            ]
          },
          "metadata": {}
        },
        {
          "output_type": "display_data",
          "data": {
            "text/plain": [
              "┏━━━━━━━━━━━━━━━━━━━━━━━━━━━━━━━━━┳━━━━━━━━━━━━━━━━━━━━━━━━┳━━━━━━━━━━━━━━━┓\n",
              "┃\u001b[1m \u001b[0m\u001b[1mLayer (type)                   \u001b[0m\u001b[1m \u001b[0m┃\u001b[1m \u001b[0m\u001b[1mOutput Shape          \u001b[0m\u001b[1m \u001b[0m┃\u001b[1m \u001b[0m\u001b[1m      Param #\u001b[0m\u001b[1m \u001b[0m┃\n",
              "┡━━━━━━━━━━━━━━━━━━━━━━━━━━━━━━━━━╇━━━━━━━━━━━━━━━━━━━━━━━━╇━━━━━━━━━━━━━━━┩\n",
              "│ embedding_1 (\u001b[38;5;33mEmbedding\u001b[0m)         │ ?                      │   \u001b[38;5;34m0\u001b[0m (unbuilt) │\n",
              "├─────────────────────────────────┼────────────────────────┼───────────────┤\n",
              "│ bidirectional (\u001b[38;5;33mBidirectional\u001b[0m)   │ ?                      │   \u001b[38;5;34m0\u001b[0m (unbuilt) │\n",
              "├─────────────────────────────────┼────────────────────────┼───────────────┤\n",
              "│ dense_2 (\u001b[38;5;33mDense\u001b[0m)                 │ ?                      │   \u001b[38;5;34m0\u001b[0m (unbuilt) │\n",
              "├─────────────────────────────────┼────────────────────────┼───────────────┤\n",
              "│ dense_3 (\u001b[38;5;33mDense\u001b[0m)                 │ ?                      │   \u001b[38;5;34m0\u001b[0m (unbuilt) │\n",
              "└─────────────────────────────────┴────────────────────────┴───────────────┘\n"
            ],
            "text/html": [
              "<pre style=\"white-space:pre;overflow-x:auto;line-height:normal;font-family:Menlo,'DejaVu Sans Mono',consolas,'Courier New',monospace\">┏━━━━━━━━━━━━━━━━━━━━━━━━━━━━━━━━━┳━━━━━━━━━━━━━━━━━━━━━━━━┳━━━━━━━━━━━━━━━┓\n",
              "┃<span style=\"font-weight: bold\"> Layer (type)                    </span>┃<span style=\"font-weight: bold\"> Output Shape           </span>┃<span style=\"font-weight: bold\">       Param # </span>┃\n",
              "┡━━━━━━━━━━━━━━━━━━━━━━━━━━━━━━━━━╇━━━━━━━━━━━━━━━━━━━━━━━━╇━━━━━━━━━━━━━━━┩\n",
              "│ embedding_1 (<span style=\"color: #0087ff; text-decoration-color: #0087ff\">Embedding</span>)         │ ?                      │   <span style=\"color: #00af00; text-decoration-color: #00af00\">0</span> (unbuilt) │\n",
              "├─────────────────────────────────┼────────────────────────┼───────────────┤\n",
              "│ bidirectional (<span style=\"color: #0087ff; text-decoration-color: #0087ff\">Bidirectional</span>)   │ ?                      │   <span style=\"color: #00af00; text-decoration-color: #00af00\">0</span> (unbuilt) │\n",
              "├─────────────────────────────────┼────────────────────────┼───────────────┤\n",
              "│ dense_2 (<span style=\"color: #0087ff; text-decoration-color: #0087ff\">Dense</span>)                 │ ?                      │   <span style=\"color: #00af00; text-decoration-color: #00af00\">0</span> (unbuilt) │\n",
              "├─────────────────────────────────┼────────────────────────┼───────────────┤\n",
              "│ dense_3 (<span style=\"color: #0087ff; text-decoration-color: #0087ff\">Dense</span>)                 │ ?                      │   <span style=\"color: #00af00; text-decoration-color: #00af00\">0</span> (unbuilt) │\n",
              "└─────────────────────────────────┴────────────────────────┴───────────────┘\n",
              "</pre>\n"
            ]
          },
          "metadata": {}
        },
        {
          "output_type": "display_data",
          "data": {
            "text/plain": [
              "\u001b[1m Total params: \u001b[0m\u001b[38;5;34m0\u001b[0m (0.00 B)\n"
            ],
            "text/html": [
              "<pre style=\"white-space:pre;overflow-x:auto;line-height:normal;font-family:Menlo,'DejaVu Sans Mono',consolas,'Courier New',monospace\"><span style=\"font-weight: bold\"> Total params: </span><span style=\"color: #00af00; text-decoration-color: #00af00\">0</span> (0.00 B)\n",
              "</pre>\n"
            ]
          },
          "metadata": {}
        },
        {
          "output_type": "display_data",
          "data": {
            "text/plain": [
              "\u001b[1m Trainable params: \u001b[0m\u001b[38;5;34m0\u001b[0m (0.00 B)\n"
            ],
            "text/html": [
              "<pre style=\"white-space:pre;overflow-x:auto;line-height:normal;font-family:Menlo,'DejaVu Sans Mono',consolas,'Courier New',monospace\"><span style=\"font-weight: bold\"> Trainable params: </span><span style=\"color: #00af00; text-decoration-color: #00af00\">0</span> (0.00 B)\n",
              "</pre>\n"
            ]
          },
          "metadata": {}
        },
        {
          "output_type": "display_data",
          "data": {
            "text/plain": [
              "\u001b[1m Non-trainable params: \u001b[0m\u001b[38;5;34m0\u001b[0m (0.00 B)\n"
            ],
            "text/html": [
              "<pre style=\"white-space:pre;overflow-x:auto;line-height:normal;font-family:Menlo,'DejaVu Sans Mono',consolas,'Courier New',monospace\"><span style=\"font-weight: bold\"> Non-trainable params: </span><span style=\"color: #00af00; text-decoration-color: #00af00\">0</span> (0.00 B)\n",
              "</pre>\n"
            ]
          },
          "metadata": {}
        },
        {
          "output_type": "stream",
          "name": "stdout",
          "text": [
            "Epoch 1/30\n",
            "\u001b[1m50/50\u001b[0m \u001b[32m━━━━━━━━━━━━━━━━━━━━\u001b[0m\u001b[37m\u001b[0m \u001b[1m8s\u001b[0m 17ms/step - accuracy: 0.5005 - loss: 0.6924 - val_accuracy: 0.4160 - val_loss: 0.6957\n",
            "Epoch 2/30\n",
            "\u001b[1m50/50\u001b[0m \u001b[32m━━━━━━━━━━━━━━━━━━━━\u001b[0m\u001b[37m\u001b[0m \u001b[1m0s\u001b[0m 10ms/step - accuracy: 0.5764 - loss: 0.6689 - val_accuracy: 0.6541 - val_loss: 0.6328\n",
            "Epoch 3/30\n",
            "\u001b[1m50/50\u001b[0m \u001b[32m━━━━━━━━━━━━━━━━━━━━\u001b[0m\u001b[37m\u001b[0m \u001b[1m1s\u001b[0m 10ms/step - accuracy: 0.7991 - loss: 0.5489 - val_accuracy: 0.7293 - val_loss: 0.5249\n",
            "Epoch 4/30\n",
            "\u001b[1m50/50\u001b[0m \u001b[32m━━━━━━━━━━━━━━━━━━━━\u001b[0m\u001b[37m\u001b[0m \u001b[1m0s\u001b[0m 10ms/step - accuracy: 0.8437 - loss: 0.3801 - val_accuracy: 0.7719 - val_loss: 0.4818\n",
            "Epoch 5/30\n",
            "\u001b[1m50/50\u001b[0m \u001b[32m━━━━━━━━━━━━━━━━━━━━\u001b[0m\u001b[37m\u001b[0m \u001b[1m1s\u001b[0m 10ms/step - accuracy: 0.9072 - loss: 0.2774 - val_accuracy: 0.7594 - val_loss: 0.5911\n",
            "Epoch 6/30\n",
            "\u001b[1m50/50\u001b[0m \u001b[32m━━━━━━━━━━━━━━━━━━━━\u001b[0m\u001b[37m\u001b[0m \u001b[1m1s\u001b[0m 12ms/step - accuracy: 0.9254 - loss: 0.2247 - val_accuracy: 0.7569 - val_loss: 0.5734\n",
            "Epoch 7/30\n",
            "\u001b[1m50/50\u001b[0m \u001b[32m━━━━━━━━━━━━━━━━━━━━\u001b[0m\u001b[37m\u001b[0m \u001b[1m1s\u001b[0m 10ms/step - accuracy: 0.9322 - loss: 0.2053 - val_accuracy: 0.7644 - val_loss: 0.5968\n",
            "Epoch 8/30\n",
            "\u001b[1m50/50\u001b[0m \u001b[32m━━━━━━━━━━━━━━━━━━━━\u001b[0m\u001b[37m\u001b[0m \u001b[1m1s\u001b[0m 10ms/step - accuracy: 0.9461 - loss: 0.1704 - val_accuracy: 0.7694 - val_loss: 0.6469\n",
            "Epoch 9/30\n",
            "\u001b[1m50/50\u001b[0m \u001b[32m━━━━━━━━━━━━━━━━━━━━\u001b[0m\u001b[37m\u001b[0m \u001b[1m1s\u001b[0m 10ms/step - accuracy: 0.9590 - loss: 0.1487 - val_accuracy: 0.7619 - val_loss: 0.6994\n",
            "Epoch 10/30\n",
            "\u001b[1m50/50\u001b[0m \u001b[32m━━━━━━━━━━━━━━━━━━━━\u001b[0m\u001b[37m\u001b[0m \u001b[1m1s\u001b[0m 10ms/step - accuracy: 0.9695 - loss: 0.1213 - val_accuracy: 0.7519 - val_loss: 0.8016\n",
            "Epoch 11/30\n",
            "\u001b[1m50/50\u001b[0m \u001b[32m━━━━━━━━━━━━━━━━━━━━\u001b[0m\u001b[37m\u001b[0m \u001b[1m0s\u001b[0m 10ms/step - accuracy: 0.9762 - loss: 0.1000 - val_accuracy: 0.7644 - val_loss: 0.8648\n",
            "Epoch 12/30\n",
            "\u001b[1m50/50\u001b[0m \u001b[32m━━━━━━━━━━━━━━━━━━━━\u001b[0m\u001b[37m\u001b[0m \u001b[1m1s\u001b[0m 10ms/step - accuracy: 0.9878 - loss: 0.0655 - val_accuracy: 0.7619 - val_loss: 0.8955\n",
            "Epoch 13/30\n",
            "\u001b[1m50/50\u001b[0m \u001b[32m━━━━━━━━━━━━━━━━━━━━\u001b[0m\u001b[37m\u001b[0m \u001b[1m1s\u001b[0m 11ms/step - accuracy: 0.9871 - loss: 0.0702 - val_accuracy: 0.7544 - val_loss: 0.9277\n",
            "Epoch 14/30\n",
            "\u001b[1m50/50\u001b[0m \u001b[32m━━━━━━━━━━━━━━━━━━━━\u001b[0m\u001b[37m\u001b[0m \u001b[1m1s\u001b[0m 10ms/step - accuracy: 0.9879 - loss: 0.0640 - val_accuracy: 0.7419 - val_loss: 0.9833\n",
            "Epoch 15/30\n",
            "\u001b[1m50/50\u001b[0m \u001b[32m━━━━━━━━━━━━━━━━━━━━\u001b[0m\u001b[37m\u001b[0m \u001b[1m1s\u001b[0m 11ms/step - accuracy: 0.9883 - loss: 0.0550 - val_accuracy: 0.7569 - val_loss: 0.9989\n",
            "Epoch 16/30\n",
            "\u001b[1m50/50\u001b[0m \u001b[32m━━━━━━━━━━━━━━━━━━━━\u001b[0m\u001b[37m\u001b[0m \u001b[1m0s\u001b[0m 10ms/step - accuracy: 0.9856 - loss: 0.0526 - val_accuracy: 0.7519 - val_loss: 1.0370\n",
            "Epoch 17/30\n",
            "\u001b[1m50/50\u001b[0m \u001b[32m━━━━━━━━━━━━━━━━━━━━\u001b[0m\u001b[37m\u001b[0m \u001b[1m1s\u001b[0m 14ms/step - accuracy: 0.9818 - loss: 0.0674 - val_accuracy: 0.7419 - val_loss: 1.0465\n",
            "Epoch 18/30\n",
            "\u001b[1m50/50\u001b[0m \u001b[32m━━━━━━━━━━━━━━━━━━━━\u001b[0m\u001b[37m\u001b[0m \u001b[1m1s\u001b[0m 16ms/step - accuracy: 0.9896 - loss: 0.0486 - val_accuracy: 0.7519 - val_loss: 1.0995\n",
            "Epoch 19/30\n",
            "\u001b[1m50/50\u001b[0m \u001b[32m━━━━━━━━━━━━━━━━━━━━\u001b[0m\u001b[37m\u001b[0m \u001b[1m1s\u001b[0m 10ms/step - accuracy: 0.9952 - loss: 0.0236 - val_accuracy: 0.7318 - val_loss: 1.1552\n",
            "Epoch 20/30\n",
            "\u001b[1m50/50\u001b[0m \u001b[32m━━━━━━━━━━━━━━━━━━━━\u001b[0m\u001b[37m\u001b[0m \u001b[1m1s\u001b[0m 10ms/step - accuracy: 0.9973 - loss: 0.0208 - val_accuracy: 0.7519 - val_loss: 1.2355\n",
            "Epoch 21/30\n",
            "\u001b[1m50/50\u001b[0m \u001b[32m━━━━━━━━━━━━━━━━━━━━\u001b[0m\u001b[37m\u001b[0m \u001b[1m1s\u001b[0m 10ms/step - accuracy: 0.9848 - loss: 0.0448 - val_accuracy: 0.7569 - val_loss: 1.1936\n",
            "Epoch 22/30\n",
            "\u001b[1m50/50\u001b[0m \u001b[32m━━━━━━━━━━━━━━━━━━━━\u001b[0m\u001b[37m\u001b[0m \u001b[1m1s\u001b[0m 11ms/step - accuracy: 0.9923 - loss: 0.0312 - val_accuracy: 0.7444 - val_loss: 1.2092\n",
            "Epoch 23/30\n",
            "\u001b[1m50/50\u001b[0m \u001b[32m━━━━━━━━━━━━━━━━━━━━\u001b[0m\u001b[37m\u001b[0m \u001b[1m1s\u001b[0m 10ms/step - accuracy: 0.9958 - loss: 0.0232 - val_accuracy: 0.7469 - val_loss: 1.2668\n",
            "Epoch 24/30\n",
            "\u001b[1m50/50\u001b[0m \u001b[32m━━━━━━━━━━━━━━━━━━━━\u001b[0m\u001b[37m\u001b[0m \u001b[1m1s\u001b[0m 12ms/step - accuracy: 0.9961 - loss: 0.0209 - val_accuracy: 0.7419 - val_loss: 1.3045\n",
            "Epoch 25/30\n",
            "\u001b[1m50/50\u001b[0m \u001b[32m━━━━━━━━━━━━━━━━━━━━\u001b[0m\u001b[37m\u001b[0m \u001b[1m1s\u001b[0m 10ms/step - accuracy: 0.9987 - loss: 0.0105 - val_accuracy: 0.7368 - val_loss: 1.3738\n",
            "Epoch 26/30\n",
            "\u001b[1m50/50\u001b[0m \u001b[32m━━━━━━━━━━━━━━━━━━━━\u001b[0m\u001b[37m\u001b[0m \u001b[1m1s\u001b[0m 10ms/step - accuracy: 0.9982 - loss: 0.0096 - val_accuracy: 0.7494 - val_loss: 1.4187\n",
            "Epoch 27/30\n",
            "\u001b[1m50/50\u001b[0m \u001b[32m━━━━━━━━━━━━━━━━━━━━\u001b[0m\u001b[37m\u001b[0m \u001b[1m1s\u001b[0m 10ms/step - accuracy: 0.9986 - loss: 0.0064 - val_accuracy: 0.7444 - val_loss: 1.4476\n",
            "Epoch 28/30\n",
            "\u001b[1m50/50\u001b[0m \u001b[32m━━━━━━━━━━━━━━━━━━━━\u001b[0m\u001b[37m\u001b[0m \u001b[1m1s\u001b[0m 10ms/step - accuracy: 0.9998 - loss: 0.0045 - val_accuracy: 0.7419 - val_loss: 1.4776\n",
            "Epoch 29/30\n",
            "\u001b[1m50/50\u001b[0m \u001b[32m━━━━━━━━━━━━━━━━━━━━\u001b[0m\u001b[37m\u001b[0m \u001b[1m1s\u001b[0m 10ms/step - accuracy: 0.9996 - loss: 0.0038 - val_accuracy: 0.7419 - val_loss: 1.4998\n",
            "Epoch 30/30\n",
            "\u001b[1m50/50\u001b[0m \u001b[32m━━━━━━━━━━━━━━━━━━━━\u001b[0m\u001b[37m\u001b[0m \u001b[1m1s\u001b[0m 10ms/step - accuracy: 0.9984 - loss: 0.0049 - val_accuracy: 0.7469 - val_loss: 1.5185\n"
          ]
        },
        {
          "output_type": "display_data",
          "data": {
            "text/plain": [
              "<Figure size 640x480 with 1 Axes>"
            ],
            "image/png": "[encoded data removed]"
          },
          "metadata": {}
        },
        {
          "output_type": "display_data",
          "data": {
            "text/plain": [
              "<Figure size 640x480 with 1 Axes>"
            ],
            "image/png": "[encoded data removed]"
          },
          "metadata": {}
        },
        {
          "output_type": "stream",
          "name": "stdout",
          "text": [
            "\u001b[1m1/1\u001b[0m \u001b[32m━━━━━━━━━━━━━━━━━━━━\u001b[0m\u001b[37m\u001b[0m \u001b[1m0s\u001b[0m 184ms/step\n",
            "[  4 281  16  25   0   0   0   0   0   0   0   0   0   0   0   0   0   0\n",
            "   0   0   0   0   0   0   0   0   0   0   0   0   0   0   0   0   0   0\n",
            "   0   0   0   0   0   0   0   0   0   0   0   0   0   0]\n",
            "I love this phone\n",
            "[0.99842036]\n",
            "\n",
            "\n",
            "[812 227 864 100 775   9 525 843   0   0   0   0   0   0   0   0   0   0\n",
            "   0   0   0   0   0   0   0   0   0   0   0   0   0   0   0   0   0   0\n",
            "   0   0   0   0   0   0   0   0   0   0   0   0   0   0]\n",
            "Everything was cold\n",
            "[0.00104152]\n",
            "\n",
            "\n",
            "[812 227 864 100 775   9 109   8 333 731  24  61   4 171  59  77   0   0\n",
            "   0   0   0   0   0   0   0   0   0   0   0   0   0   0   0   0   0   0\n",
            "   0   0   0   0   0   0   0   0   0   0   0   0   0   0]\n",
            "Everything was hot exactly as I wanted\n",
            "[0.01803268]\n",
            "\n",
            "\n",
            "[812 227 864 100 775   9 157 359 853   0   0   0   0   0   0   0   0   0\n",
            "   0   0   0   0   0   0   0   0   0   0   0   0   0   0   0   0   0   0\n",
            "   0   0   0   0   0   0   0   0   0   0   0   0   0   0]\n",
            "Everything was green\n",
            "[0.01068043]\n",
            "\n",
            "\n",
            "[  1 109 228 540 237 635 241 423 340  89 298   0   0   0   0   0   0   0\n",
            "   0   0   0   0   0   0   0   0   0   0   0   0   0   0   0   0   0   0\n",
            "   0   0   0   0   0   0   0   0   0   0   0   0   0   0]\n",
            "the host seated us immediately\n",
            "[0.9991254]\n",
            "\n",
            "\n",
            "[154 242  47 635 341  12 569 547 147 319 775 125  85   0   0   0   0   0\n",
            "   0   0   0   0   0   0   0   0   0   0   0   0   0   0   0   0   0   0\n",
            "   0   0   0   0   0   0   0   0   0   0   0   0   0   0]\n",
            "they gave us free chocolate cake\n",
            "[0.98273236]\n",
            "\n",
            "\n",
            "[158 190 853 782   8 607 775 210 232 146 775 470  67 305 101  15   1 328\n",
            " 296  26  19   1 661 641 195   0   0   0   0   0   0   0   0   0   0   0\n",
            "   0   0   0   0   0   0   0   0   0   0   0   0   0   0]\n",
            "we couldn't hear each other talk because of the shouting in the kitchen\n",
            "[0.00013697]\n",
            "\n",
            "\n"
          ]
        }
      ],
      "source": [
        "# Define the model\n",
        "model_bidi_lstm = tf.keras.Sequential([\n",
        "    tf.keras.layers.Embedding(vocab_size, embedding_dim, input_length=max_length),\n",
        "    tf.keras.layers.Bidirectional(tf.keras.layers.LSTM(embedding_dim)),\n",
        "    tf.keras.layers.Dense(6, activation='relu'),\n",
        "    tf.keras.layers.Dense(1, activation='sigmoid')\n",
        "])\n",
        "\n",
        "# Compile and train the model and then show the predictions for our extra sentences\n",
        "fit_model_and_show_results(model_bidi_lstm, fake_reviews)\n"
      ]
    },
    {
      "cell_type": "markdown",
      "metadata": {
        "id": "QsxKPbCnPJTj"
      },
      "source": [
        "# Use multiple bidirectional layers\n",
        "\n",
        "Now let's see if we get any improvements from adding another Bidirectional LSTM layer to the model.\n",
        "\n",
        "Notice that the first Bidirectionl LSTM layer returns a sequence."
      ]
    },
    {
      "cell_type": "code",
      "execution_count": 20,
      "metadata": {
        "id": "3N6Zul47PMED",
        "outputId": "4d071c58-e52d-4741-8186-cd2d683b79dc",
        "colab": {
          "base_uri": "https://localhost:8080/",
          "height": 1000
        }
      },
      "outputs": [
        {
          "output_type": "display_data",
          "data": {
            "text/plain": [
              "\u001b[1mModel: \"sequential_2\"\u001b[0m\n"
            ],
            "text/html": [
              "<pre style=\"white-space:pre;overflow-x:auto;line-height:normal;font-family:Menlo,'DejaVu Sans Mono',consolas,'Courier New',monospace\"><span style=\"font-weight: bold\">Model: \"sequential_2\"</span>\n",
              "</pre>\n"
            ]
          },
          "metadata": {}
        },
        {
          "output_type": "display_data",
          "data": {
            "text/plain": [
              "┏━━━━━━━━━━━━━━━━━━━━━━━━━━━━━━━━━┳━━━━━━━━━━━━━━━━━━━━━━━━┳━━━━━━━━━━━━━━━┓\n",
              "┃\u001b[1m \u001b[0m\u001b[1mLayer (type)                   \u001b[0m\u001b[1m \u001b[0m┃\u001b[1m \u001b[0m\u001b[1mOutput Shape          \u001b[0m\u001b[1m \u001b[0m┃\u001b[1m \u001b[0m\u001b[1m      Param #\u001b[0m\u001b[1m \u001b[0m┃\n",
              "┡━━━━━━━━━━━━━━━━━━━━━━━━━━━━━━━━━╇━━━━━━━━━━━━━━━━━━━━━━━━╇━━━━━━━━━━━━━━━┩\n",
              "│ embedding_2 (\u001b[38;5;33mEmbedding\u001b[0m)         │ ?                      │   \u001b[38;5;34m0\u001b[0m (unbuilt) │\n",
              "├─────────────────────────────────┼────────────────────────┼───────────────┤\n",
              "│ bidirectional_1 (\u001b[38;5;33mBidirectional\u001b[0m) │ ?                      │   \u001b[38;5;34m0\u001b[0m (unbuilt) │\n",
              "├─────────────────────────────────┼────────────────────────┼───────────────┤\n",
              "│ bidirectional_2 (\u001b[38;5;33mBidirectional\u001b[0m) │ ?                      │   \u001b[38;5;34m0\u001b[0m (unbuilt) │\n",
              "├─────────────────────────────────┼────────────────────────┼───────────────┤\n",
              "│ dense_4 (\u001b[38;5;33mDense\u001b[0m)                 │ ?                      │   \u001b[38;5;34m0\u001b[0m (unbuilt) │\n",
              "├─────────────────────────────────┼────────────────────────┼───────────────┤\n",
              "│ dense_5 (\u001b[38;5;33mDense\u001b[0m)                 │ ?                      │   \u001b[38;5;34m0\u001b[0m (unbuilt) │\n",
              "└─────────────────────────────────┴────────────────────────┴───────────────┘\n"
            ],
            "text/html": [
              "<pre style=\"white-space:pre;overflow-x:auto;line-height:normal;font-family:Menlo,'DejaVu Sans Mono',consolas,'Courier New',monospace\">┏━━━━━━━━━━━━━━━━━━━━━━━━━━━━━━━━━┳━━━━━━━━━━━━━━━━━━━━━━━━┳━━━━━━━━━━━━━━━┓\n",
              "┃<span style=\"font-weight: bold\"> Layer (type)                    </span>┃<span style=\"font-weight: bold\"> Output Shape           </span>┃<span style=\"font-weight: bold\">       Param # </span>┃\n",
              "┡━━━━━━━━━━━━━━━━━━━━━━━━━━━━━━━━━╇━━━━━━━━━━━━━━━━━━━━━━━━╇━━━━━━━━━━━━━━━┩\n",
              "│ embedding_2 (<span style=\"color: #0087ff; text-decoration-color: #0087ff\">Embedding</span>)         │ ?                      │   <span style=\"color: #00af00; text-decoration-color: #00af00\">0</span> (unbuilt) │\n",
              "├─────────────────────────────────┼────────────────────────┼───────────────┤\n",
              "│ bidirectional_1 (<span style=\"color: #0087ff; text-decoration-color: #0087ff\">Bidirectional</span>) │ ?                      │   <span style=\"color: #00af00; text-decoration-color: #00af00\">0</span> (unbuilt) │\n",
              "├─────────────────────────────────┼────────────────────────┼───────────────┤\n",
              "│ bidirectional_2 (<span style=\"color: #0087ff; text-decoration-color: #0087ff\">Bidirectional</span>) │ ?                      │   <span style=\"color: #00af00; text-decoration-color: #00af00\">0</span> (unbuilt) │\n",
              "├─────────────────────────────────┼────────────────────────┼───────────────┤\n",
              "│ dense_4 (<span style=\"color: #0087ff; text-decoration-color: #0087ff\">Dense</span>)                 │ ?                      │   <span style=\"color: #00af00; text-decoration-color: #00af00\">0</span> (unbuilt) │\n",
              "├─────────────────────────────────┼────────────────────────┼───────────────┤\n",
              "│ dense_5 (<span style=\"color: #0087ff; text-decoration-color: #0087ff\">Dense</span>)                 │ ?                      │   <span style=\"color: #00af00; text-decoration-color: #00af00\">0</span> (unbuilt) │\n",
              "└─────────────────────────────────┴────────────────────────┴───────────────┘\n",
              "</pre>\n"
            ]
          },
          "metadata": {}
        },
        {
          "output_type": "display_data",
          "data": {
            "text/plain": [
              "\u001b[1m Total params: \u001b[0m\u001b[38;5;34m0\u001b[0m (0.00 B)\n"
            ],
            "text/html": [
              "<pre style=\"white-space:pre;overflow-x:auto;line-height:normal;font-family:Menlo,'DejaVu Sans Mono',consolas,'Courier New',monospace\"><span style=\"font-weight: bold\"> Total params: </span><span style=\"color: #00af00; text-decoration-color: #00af00\">0</span> (0.00 B)\n",
              "</pre>\n"
            ]
          },
          "metadata": {}
        },
        {
          "output_type": "display_data",
          "data": {
            "text/plain": [
              "\u001b[1m Trainable params: \u001b[0m\u001b[38;5;34m0\u001b[0m (0.00 B)\n"
            ],
            "text/html": [
              "<pre style=\"white-space:pre;overflow-x:auto;line-height:normal;font-family:Menlo,'DejaVu Sans Mono',consolas,'Courier New',monospace\"><span style=\"font-weight: bold\"> Trainable params: </span><span style=\"color: #00af00; text-decoration-color: #00af00\">0</span> (0.00 B)\n",
              "</pre>\n"
            ]
          },
          "metadata": {}
        },
        {
          "output_type": "display_data",
          "data": {
            "text/plain": [
              "\u001b[1m Non-trainable params: \u001b[0m\u001b[38;5;34m0\u001b[0m (0.00 B)\n"
            ],
            "text/html": [
              "<pre style=\"white-space:pre;overflow-x:auto;line-height:normal;font-family:Menlo,'DejaVu Sans Mono',consolas,'Courier New',monospace\"><span style=\"font-weight: bold\"> Non-trainable params: </span><span style=\"color: #00af00; text-decoration-color: #00af00\">0</span> (0.00 B)\n",
              "</pre>\n"
            ]
          },
          "metadata": {}
        },
        {
          "output_type": "stream",
          "name": "stdout",
          "text": [
            "Epoch 1/30\n",
            "\u001b[1m50/50\u001b[0m \u001b[32m━━━━━━━━━━━━━━━━━━━━\u001b[0m\u001b[37m\u001b[0m \u001b[1m6s\u001b[0m 26ms/step - accuracy: 0.5088 - loss: 0.6923 - val_accuracy: 0.4110 - val_loss: 0.7200\n",
            "Epoch 2/30\n",
            "\u001b[1m50/50\u001b[0m \u001b[32m━━━━━━━━━━━━━━━━━━━━\u001b[0m\u001b[37m\u001b[0m \u001b[1m1s\u001b[0m 16ms/step - accuracy: 0.5676 - loss: 0.6728 - val_accuracy: 0.6792 - val_loss: 0.6136\n",
            "Epoch 3/30\n",
            "\u001b[1m50/50\u001b[0m \u001b[32m━━━━━━━━━━━━━━━━━━━━\u001b[0m\u001b[37m\u001b[0m \u001b[1m1s\u001b[0m 14ms/step - accuracy: 0.8132 - loss: 0.4702 - val_accuracy: 0.7519 - val_loss: 0.5324\n",
            "Epoch 4/30\n",
            "\u001b[1m50/50\u001b[0m \u001b[32m━━━━━━━━━━━━━━━━━━━━\u001b[0m\u001b[37m\u001b[0m \u001b[1m1s\u001b[0m 14ms/step - accuracy: 0.8815 - loss: 0.3175 - val_accuracy: 0.7594 - val_loss: 0.5589\n",
            "Epoch 5/30\n",
            "\u001b[1m50/50\u001b[0m \u001b[32m━━━━━━━━━━━━━━━━━━━━\u001b[0m\u001b[37m\u001b[0m \u001b[1m1s\u001b[0m 14ms/step - accuracy: 0.9127 - loss: 0.2594 - val_accuracy: 0.7393 - val_loss: 0.5599\n",
            "Epoch 6/30\n",
            "\u001b[1m50/50\u001b[0m \u001b[32m━━━━━━━━━━━━━━━━━━━━\u001b[0m\u001b[37m\u001b[0m \u001b[1m1s\u001b[0m 15ms/step - accuracy: 0.9265 - loss: 0.2314 - val_accuracy: 0.7393 - val_loss: 0.7189\n",
            "Epoch 7/30\n",
            "\u001b[1m50/50\u001b[0m \u001b[32m━━━━━━━━━━━━━━━━━━━━\u001b[0m\u001b[37m\u001b[0m \u001b[1m1s\u001b[0m 14ms/step - accuracy: 0.9537 - loss: 0.1676 - val_accuracy: 0.7368 - val_loss: 0.7274\n",
            "Epoch 8/30\n",
            "\u001b[1m50/50\u001b[0m \u001b[32m━━━━━━━━━━━━━━━━━━━━\u001b[0m\u001b[37m\u001b[0m \u001b[1m1s\u001b[0m 14ms/step - accuracy: 0.9657 - loss: 0.1241 - val_accuracy: 0.7368 - val_loss: 0.7328\n",
            "Epoch 9/30\n",
            "\u001b[1m50/50\u001b[0m \u001b[32m━━━━━━━━━━━━━━━━━━━━\u001b[0m\u001b[37m\u001b[0m \u001b[1m1s\u001b[0m 15ms/step - accuracy: 0.9614 - loss: 0.1516 - val_accuracy: 0.7318 - val_loss: 0.8755\n",
            "Epoch 10/30\n",
            "\u001b[1m50/50\u001b[0m \u001b[32m━━━━━━━━━━━━━━━━━━━━\u001b[0m\u001b[37m\u001b[0m \u001b[1m1s\u001b[0m 15ms/step - accuracy: 0.9695 - loss: 0.1123 - val_accuracy: 0.7444 - val_loss: 0.8323\n",
            "Epoch 11/30\n",
            "\u001b[1m50/50\u001b[0m \u001b[32m━━━━━━━━━━━━━━━━━━━━\u001b[0m\u001b[37m\u001b[0m \u001b[1m1s\u001b[0m 17ms/step - accuracy: 0.9699 - loss: 0.1231 - val_accuracy: 0.7343 - val_loss: 0.9513\n",
            "Epoch 12/30\n",
            "\u001b[1m50/50\u001b[0m \u001b[32m━━━━━━━━━━━━━━━━━━━━\u001b[0m\u001b[37m\u001b[0m \u001b[1m1s\u001b[0m 20ms/step - accuracy: 0.9791 - loss: 0.0890 - val_accuracy: 0.7494 - val_loss: 0.7691\n",
            "Epoch 13/30\n",
            "\u001b[1m50/50\u001b[0m \u001b[32m━━━━━━━━━━━━━━━━━━━━\u001b[0m\u001b[37m\u001b[0m \u001b[1m1s\u001b[0m 20ms/step - accuracy: 0.9720 - loss: 0.1185 - val_accuracy: 0.7268 - val_loss: 0.9417\n",
            "Epoch 14/30\n",
            "\u001b[1m50/50\u001b[0m \u001b[32m━━━━━━━━━━━━━━━━━━━━\u001b[0m\u001b[37m\u001b[0m \u001b[1m1s\u001b[0m 14ms/step - accuracy: 0.9829 - loss: 0.0814 - val_accuracy: 0.7218 - val_loss: 1.0485\n",
            "Epoch 15/30\n",
            "\u001b[1m50/50\u001b[0m \u001b[32m━━━━━━━━━━━━━━━━━━━━\u001b[0m\u001b[37m\u001b[0m \u001b[1m1s\u001b[0m 16ms/step - accuracy: 0.9782 - loss: 0.0891 - val_accuracy: 0.7143 - val_loss: 1.1339\n",
            "Epoch 16/30\n",
            "\u001b[1m50/50\u001b[0m \u001b[32m━━━━━━━━━━━━━━━━━━━━\u001b[0m\u001b[37m\u001b[0m \u001b[1m1s\u001b[0m 15ms/step - accuracy: 0.9811 - loss: 0.0719 - val_accuracy: 0.7293 - val_loss: 1.1444\n",
            "Epoch 17/30\n",
            "\u001b[1m50/50\u001b[0m \u001b[32m━━━━━━━━━━━━━━━━━━━━\u001b[0m\u001b[37m\u001b[0m \u001b[1m1s\u001b[0m 15ms/step - accuracy: 0.9856 - loss: 0.0577 - val_accuracy: 0.7143 - val_loss: 1.0668\n",
            "Epoch 18/30\n",
            "\u001b[1m50/50\u001b[0m \u001b[32m━━━━━━━━━━━━━━━━━━━━\u001b[0m\u001b[37m\u001b[0m \u001b[1m1s\u001b[0m 14ms/step - accuracy: 0.9706 - loss: 0.1125 - val_accuracy: 0.7268 - val_loss: 1.0614\n",
            "Epoch 19/30\n",
            "\u001b[1m50/50\u001b[0m \u001b[32m━━━━━━━━━━━━━━━━━━━━\u001b[0m\u001b[37m\u001b[0m \u001b[1m1s\u001b[0m 15ms/step - accuracy: 0.9800 - loss: 0.0837 - val_accuracy: 0.7293 - val_loss: 1.0919\n",
            "Epoch 20/30\n",
            "\u001b[1m50/50\u001b[0m \u001b[32m━━━━━━━━━━━━━━━━━━━━\u001b[0m\u001b[37m\u001b[0m \u001b[1m1s\u001b[0m 14ms/step - accuracy: 0.9865 - loss: 0.0668 - val_accuracy: 0.7218 - val_loss: 1.1058\n",
            "Epoch 21/30\n",
            "\u001b[1m50/50\u001b[0m \u001b[32m━━━━━━━━━━━━━━━━━━━━\u001b[0m\u001b[37m\u001b[0m \u001b[1m1s\u001b[0m 14ms/step - accuracy: 0.9850 - loss: 0.0664 - val_accuracy: 0.7343 - val_loss: 1.0823\n",
            "Epoch 22/30\n",
            "\u001b[1m50/50\u001b[0m \u001b[32m━━━━━━━━━━━━━━━━━━━━\u001b[0m\u001b[37m\u001b[0m \u001b[1m1s\u001b[0m 14ms/step - accuracy: 0.9854 - loss: 0.0670 - val_accuracy: 0.7218 - val_loss: 1.1344\n",
            "Epoch 23/30\n",
            "\u001b[1m50/50\u001b[0m \u001b[32m━━━━━━━━━━━━━━━━━━━━\u001b[0m\u001b[37m\u001b[0m \u001b[1m1s\u001b[0m 22ms/step - accuracy: 0.9865 - loss: 0.0593 - val_accuracy: 0.7268 - val_loss: 1.1836\n",
            "Epoch 24/30\n",
            "\u001b[1m50/50\u001b[0m \u001b[32m━━━━━━━━━━━━━━━━━━━━\u001b[0m\u001b[37m\u001b[0m \u001b[1m1s\u001b[0m 21ms/step - accuracy: 0.9893 - loss: 0.0515 - val_accuracy: 0.7193 - val_loss: 1.2186\n",
            "Epoch 25/30\n",
            "\u001b[1m50/50\u001b[0m \u001b[32m━━━━━━━━━━━━━━━━━━━━\u001b[0m\u001b[37m\u001b[0m \u001b[1m1s\u001b[0m 15ms/step - accuracy: 0.9901 - loss: 0.0456 - val_accuracy: 0.7168 - val_loss: 1.2145\n",
            "Epoch 26/30\n",
            "\u001b[1m50/50\u001b[0m \u001b[32m━━━━━━━━━━━━━━━━━━━━\u001b[0m\u001b[37m\u001b[0m \u001b[1m1s\u001b[0m 14ms/step - accuracy: 0.9884 - loss: 0.0517 - val_accuracy: 0.7293 - val_loss: 1.0936\n",
            "Epoch 27/30\n",
            "\u001b[1m50/50\u001b[0m \u001b[32m━━━━━━━━━━━━━━━━━━━━\u001b[0m\u001b[37m\u001b[0m \u001b[1m1s\u001b[0m 14ms/step - accuracy: 0.9812 - loss: 0.0639 - val_accuracy: 0.7343 - val_loss: 1.1123\n",
            "Epoch 28/30\n",
            "\u001b[1m50/50\u001b[0m \u001b[32m━━━━━━━━━━━━━━━━━━━━\u001b[0m\u001b[37m\u001b[0m \u001b[1m1s\u001b[0m 14ms/step - accuracy: 0.9814 - loss: 0.0698 - val_accuracy: 0.7243 - val_loss: 1.1384\n",
            "Epoch 29/30\n",
            "\u001b[1m50/50\u001b[0m \u001b[32m━━━━━━━━━━━━━━━━━━━━\u001b[0m\u001b[37m\u001b[0m \u001b[1m1s\u001b[0m 15ms/step - accuracy: 0.9856 - loss: 0.0582 - val_accuracy: 0.7444 - val_loss: 1.1189\n",
            "Epoch 30/30\n",
            "\u001b[1m50/50\u001b[0m \u001b[32m━━━━━━━━━━━━━━━━━━━━\u001b[0m\u001b[37m\u001b[0m \u001b[1m1s\u001b[0m 14ms/step - accuracy: 0.9790 - loss: 0.0738 - val_accuracy: 0.7343 - val_loss: 1.1958\n"
          ]
        },
        {
          "output_type": "display_data",
          "data": {
            "text/plain": [
              "<Figure size 640x480 with 1 Axes>"
            ],
            "image/png": "[encoded data removed]"
          },
          "metadata": {}
        },
        {
          "output_type": "display_data",
          "data": {
            "text/plain": [
              "<Figure size 640x480 with 1 Axes>"
            ],
            "image/png": "[encoded data removed]"
          },
          "metadata": {}
        },
        {
          "output_type": "stream",
          "name": "stdout",
          "text": [
            "\u001b[1m1/1\u001b[0m \u001b[32m━━━━━━━━━━━━━━━━━━━━\u001b[0m\u001b[37m\u001b[0m \u001b[1m0s\u001b[0m 324ms/step\n",
            "[  4 281  16  25   0   0   0   0   0   0   0   0   0   0   0   0   0   0\n",
            "   0   0   0   0   0   0   0   0   0   0   0   0   0   0   0   0   0   0\n",
            "   0   0   0   0   0   0   0   0   0   0   0   0   0   0]\n",
            "I love this phone\n",
            "[0.9942148]\n",
            "\n",
            "\n",
            "[812 227 864 100 775   9 525 843   0   0   0   0   0   0   0   0   0   0\n",
            "   0   0   0   0   0   0   0   0   0   0   0   0   0   0   0   0   0   0\n",
            "   0   0   0   0   0   0   0   0   0   0   0   0   0   0]\n",
            "Everything was cold\n",
            "[0.01779708]\n",
            "\n",
            "\n",
            "[812 227 864 100 775   9 109   8 333 731  24  61   4 171  59  77   0   0\n",
            "   0   0   0   0   0   0   0   0   0   0   0   0   0   0   0   0   0   0\n",
            "   0   0   0   0   0   0   0   0   0   0   0   0   0   0]\n",
            "Everything was hot exactly as I wanted\n",
            "[0.33751902]\n",
            "\n",
            "\n",
            "[812 227 864 100 775   9 157 359 853   0   0   0   0   0   0   0   0   0\n",
            "   0   0   0   0   0   0   0   0   0   0   0   0   0   0   0   0   0   0\n",
            "   0   0   0   0   0   0   0   0   0   0   0   0   0   0]\n",
            "Everything was green\n",
            "[0.01399481]\n",
            "\n",
            "\n",
            "[  1 109 228 540 237 635 241 423 340  89 298   0   0   0   0   0   0   0\n",
            "   0   0   0   0   0   0   0   0   0   0   0   0   0   0   0   0   0   0\n",
            "   0   0   0   0   0   0   0   0   0   0   0   0   0   0]\n",
            "the host seated us immediately\n",
            "[0.04337612]\n",
            "\n",
            "\n",
            "[154 242  47 635 341  12 569 547 147 319 775 125  85   0   0   0   0   0\n",
            "   0   0   0   0   0   0   0   0   0   0   0   0   0   0   0   0   0   0\n",
            "   0   0   0   0   0   0   0   0   0   0   0   0   0   0]\n",
            "they gave us free chocolate cake\n",
            "[0.9948862]\n",
            "\n",
            "\n",
            "[158 190 853 782   8 607 775 210 232 146 775 470  67 305 101  15   1 328\n",
            " 296  26  19   1 661 641 195   0   0   0   0   0   0   0   0   0   0   0\n",
            "   0   0   0   0   0   0   0   0   0   0   0   0   0   0]\n",
            "we couldn't hear each other talk because of the shouting in the kitchen\n",
            "[0.02463718]\n",
            "\n",
            "\n"
          ]
        }
      ],
      "source": [
        "model_multiple_bidi_lstm = tf.keras.Sequential([\n",
        "    tf.keras.layers.Embedding(vocab_size, embedding_dim, input_length=max_length),\n",
        "    tf.keras.layers.Bidirectional(tf.keras.layers.LSTM(embedding_dim,\n",
        "                                                       return_sequences=True)),\n",
        "    tf.keras.layers.Bidirectional(tf.keras.layers.LSTM(embedding_dim)),\n",
        "    tf.keras.layers.Dense(6, activation='relu'),\n",
        "    tf.keras.layers.Dense(1, activation='sigmoid')\n",
        "])\n",
        "\n",
        "fit_model_and_show_results(model_multiple_bidi_lstm, fake_reviews)"
      ]
    },
    {
      "cell_type": "markdown",
      "metadata": {
        "id": "ABVYYPwba8Hx"
      },
      "source": [
        "# Compare predictions for all the models\n",
        "\n",
        "It can be hard to see which model gives a better prediction for different reviews when you examine each model separately. So for comparison purposes, here we define some more reviews and print out the predictions that each of the three models gives for each review:\n",
        "\n",
        "*   Embeddings and a Global Average Pooling layer\n",
        "*   Embeddings and a Bidirectional LSTM layer\n",
        "*   Embeddings and two Bidirectional LSTM layers\n",
        "\n",
        "The results are not always what you might expect. The input dataset is fairly small, it has less than 2000 reviews. Some of the reviews are fairly short, and some of the short ones are fairly repetitive which reduces their impact on improving the  model, such as these two reviews:\n",
        "\n",
        "*   Bad Quality.\n",
        "*   Low Quality.\n",
        "\n",
        "Feel free to add more reviews of your own, or change the reviews. The results will depend on the combination of words in the reviews, and how well they match to reviews in the training set.\n",
        "\n",
        "How do the different models handle things like \"wasn't good\" which contains a positive word (good) but is a poor review?\n"
      ]
    },
    {
      "cell_type": "code",
      "execution_count": 21,
      "metadata": {
        "id": "6XebrXt0jtOy"
      },
      "outputs": [],
      "source": [
        "my_reviews =[\"lovely\", \"dreadful\", \"stay away\",\n",
        "             \"everything was hot exactly as I wanted\",\n",
        "             \"everything was not exactly as I wanted\",\n",
        "             \"they gave us free chocolate cake\",\n",
        "             \"I've never eaten anything so spicy in my life, my throat burned for hours\",\n",
        "             \"for a phone that is as expensive as this one I expect it to be much easier to use than this thing is\",\n",
        "             \"we left there very full for a low price so I'd say you just can't go wrong at this place\",\n",
        "             \"that place does not have quality meals and it isn't a good place to go for dinner\",\n",
        "             ]"
      ]
    },
    {
      "cell_type": "code",
      "execution_count": 22,
      "metadata": {
        "id": "tRWGjkJLkY2y",
        "outputId": "46d58992-ebb2-451c-ca32-54e3a8788cad",
        "colab": {
          "base_uri": "https://localhost:8080/"
        }
      },
      "outputs": [
        {
          "output_type": "stream",
          "name": "stdout",
          "text": [
            "===================================\n",
            " Embeddings only:\n",
            " ===================================\n",
            "\u001b[1m1/1\u001b[0m \u001b[32m━━━━━━━━━━━━━━━━━━━━\u001b[0m\u001b[37m\u001b[0m \u001b[1m0s\u001b[0m 247ms/step\n",
            "lovely\n",
            "[0.8699057]\n",
            "\n",
            "\n",
            "dreadful\n",
            "[0.46768036]\n",
            "\n",
            "\n",
            "stay away\n",
            "[0.67799485]\n",
            "\n",
            "\n",
            "everything was hot exactly as I wanted\n",
            "[0.6548068]\n",
            "\n",
            "\n",
            "everything was not exactly as I wanted\n",
            "[0.41649246]\n",
            "\n",
            "\n",
            "they gave us free chocolate cake\n",
            "[0.7033933]\n",
            "\n",
            "\n",
            "I've never eaten anything so spicy in my life, my throat burned for hours\n",
            "[0.05537574]\n",
            "\n",
            "\n",
            "for a phone that is as expensive as this one I expect it to be much easier to use than this thing is\n",
            "[0.4784596]\n",
            "\n",
            "\n",
            "we left there very full for a low price so I'd say you just can't go wrong at this place\n",
            "[0.80458134]\n",
            "\n",
            "\n",
            "that place does not have quality meals and it isn't a good place to go for dinner\n",
            "[0.74658185]\n",
            "\n",
            "\n"
          ]
        }
      ],
      "source": [
        "print(\"===================================\\n\",\"Embeddings only:\\n\", \"===================================\",)\n",
        "predict_review(model, my_reviews, show_padded_sequence=False)"
      ]
    },
    {
      "cell_type": "code",
      "execution_count": 23,
      "metadata": {
        "id": "G2FJR3IVBt30",
        "outputId": "6f22b375-4762-4132-a590-c880c0616829",
        "colab": {
          "base_uri": "https://localhost:8080/"
        }
      },
      "outputs": [
        {
          "output_type": "stream",
          "name": "stdout",
          "text": [
            "===================================\n",
            " With a single bidirectional LSTM:\n",
            " ===================================\n"
          ]
        },
        {
          "output_type": "stream",
          "name": "stderr",
          "text": [
            "WARNING:tensorflow:5 out of the last 5 calls to <function TensorFlowTrainer.make_predict_function.<locals>.one_step_on_data_distributed at 0x7a77901231a0> triggered tf.function retracing. Tracing is expensive and the excessive number of tracings could be due to (1) creating @tf.function repeatedly in a loop, (2) passing tensors with different shapes, (3) passing Python objects instead of tensors. For (1), please define your @tf.function outside of the loop. For (2), @tf.function has reduce_retracing=True option that can avoid unnecessary retracing. For (3), please refer to https://www.tensorflow.org/guide/function#controlling_retracing and https://www.tensorflow.org/api_docs/python/tf/function for  more details.\n"
          ]
        },
        {
          "output_type": "stream",
          "name": "stdout",
          "text": [
            "\u001b[1m1/1\u001b[0m \u001b[32m━━━━━━━━━━━━━━━━━━━━\u001b[0m\u001b[37m\u001b[0m \u001b[1m0s\u001b[0m 299ms/step\n",
            "lovely\n",
            "[0.9828019]\n",
            "\n",
            "\n",
            "dreadful\n",
            "[0.01228755]\n",
            "\n",
            "\n",
            "stay away\n",
            "[0.12852399]\n",
            "\n",
            "\n",
            "everything was hot exactly as I wanted\n",
            "[0.75625324]\n",
            "\n",
            "\n",
            "everything was not exactly as I wanted\n",
            "[0.01103272]\n",
            "\n",
            "\n",
            "they gave us free chocolate cake\n",
            "[0.98273236]\n",
            "\n",
            "\n",
            "I've never eaten anything so spicy in my life, my throat burned for hours\n",
            "[0.9639843]\n",
            "\n",
            "\n",
            "for a phone that is as expensive as this one I expect it to be much easier to use than this thing is\n",
            "[0.01112197]\n",
            "\n",
            "\n",
            "we left there very full for a low price so I'd say you just can't go wrong at this place\n",
            "[0.99949586]\n",
            "\n",
            "\n",
            "that place does not have quality meals and it isn't a good place to go for dinner\n",
            "[0.99866855]\n",
            "\n",
            "\n"
          ]
        }
      ],
      "source": [
        "print(\"===================================\\n\", \"With a single bidirectional LSTM:\\n\", \"===================================\")\n",
        "predict_review(model_bidi_lstm, my_reviews, show_padded_sequence=False)"
      ]
    },
    {
      "cell_type": "code",
      "execution_count": 24,
      "metadata": {
        "id": "81v1r3Y2BwvC",
        "outputId": "776ab698-32a5-4d08-af31-c79967f3f847",
        "colab": {
          "base_uri": "https://localhost:8080/"
        }
      },
      "outputs": [
        {
          "output_type": "stream",
          "name": "stdout",
          "text": [
            "===================================\n",
            " With two bidirectional LSTMs:\n",
            " ===================================\n"
          ]
        },
        {
          "output_type": "stream",
          "name": "stderr",
          "text": [
            "WARNING:tensorflow:6 out of the last 6 calls to <function TensorFlowTrainer.make_predict_function.<locals>.one_step_on_data_distributed at 0x7a77341dae80> triggered tf.function retracing. Tracing is expensive and the excessive number of tracings could be due to (1) creating @tf.function repeatedly in a loop, (2) passing tensors with different shapes, (3) passing Python objects instead of tensors. For (1), please define your @tf.function outside of the loop. For (2), @tf.function has reduce_retracing=True option that can avoid unnecessary retracing. For (3), please refer to https://www.tensorflow.org/guide/function#controlling_retracing and https://www.tensorflow.org/api_docs/python/tf/function for  more details.\n"
          ]
        },
        {
          "output_type": "stream",
          "name": "stdout",
          "text": [
            "\u001b[1m1/1\u001b[0m \u001b[32m━━━━━━━━━━━━━━━━━━━━\u001b[0m\u001b[37m\u001b[0m \u001b[1m0s\u001b[0m 350ms/step\n",
            "lovely\n",
            "[0.9936401]\n",
            "\n",
            "\n",
            "dreadful\n",
            "[0.02730397]\n",
            "\n",
            "\n",
            "stay away\n",
            "[0.02039008]\n",
            "\n",
            "\n",
            "everything was hot exactly as I wanted\n",
            "[0.97867256]\n",
            "\n",
            "\n",
            "everything was not exactly as I wanted\n",
            "[0.02644259]\n",
            "\n",
            "\n",
            "they gave us free chocolate cake\n",
            "[0.9948862]\n",
            "\n",
            "\n",
            "I've never eaten anything so spicy in my life, my throat burned for hours\n",
            "[0.02093827]\n",
            "\n",
            "\n",
            "for a phone that is as expensive as this one I expect it to be much easier to use than this thing is\n",
            "[0.10068989]\n",
            "\n",
            "\n",
            "we left there very full for a low price so I'd say you just can't go wrong at this place\n",
            "[0.97885096]\n",
            "\n",
            "\n",
            "that place does not have quality meals and it isn't a good place to go for dinner\n",
            "[0.01703395]\n",
            "\n",
            "\n"
          ]
        }
      ],
      "source": [
        "print(\"===================================\\n\",\"With two bidirectional LSTMs:\\n\", \"===================================\")\n",
        "predict_review(model_multiple_bidi_lstm, my_reviews, show_padded_sequence=False)"
      ]
    }
  ],
  "metadata": {
    "accelerator": "GPU",
    "colab": {
      "name": "l10c01_nlp_lstms_with_reviews_subwords_dataset.ipynb",
      "toc_visible": true,
      "provenance": []
    },
    "kernelspec": {
      "display_name": "Python 3",
      "name": "python3"
    }
  },
  "nbformat": 4,
  "nbformat_minor": 0
}